{
 "cells": [
  {
   "cell_type": "code",
   "execution_count": null,
   "metadata": {},
   "outputs": [
    {
     "name": "stdout",
     "output_type": "stream",
     "text": [
      "ok\n"
     ]
    }
   ],
   "source": [
    "import pandas as pd\n",
    "\n",
    "def main():\n",
    "\n",
    "    file_excel = 'Nodo B3.xlsx'\n",
    "    file_txt = 'Nodo C.txt'\n",
    "\n",
    "    df = pd.read_excel(file_excel)[2:]\n",
    "    df = df.iloc[:,[11,12,13,14,15,16,17,18]]\n",
    "    df.iloc[:,[0,1]] = df.iloc[:,[0,1]].map(lambda x: '{:.0f}'.format(x))\n",
    "    df.iloc[:, [2,3,4,5,6,7]] = df.iloc[:, [2,3,4,5,6,7]].map(lambda x: '{:.2f}'.format(x))\n",
    "\n",
    "    with open(file_txt, 'w', encoding='utf-8') as file:\n",
    "        file.write(df.to_string(index=False, header=False))\n",
    "\n",
    "    with open(file_txt, 'r', encoding='utf-8', newline='')as f:\n",
    "        liste = []\n",
    "        for riga in f:\n",
    "            riga = riga.split()[:-1] + [riga.split()[-1].rstrip()]\n",
    "            riga[0] = ' ' + riga[0] + ' ' * (14 - len(riga[0]))\n",
    "            riga[1] = riga[1] + ' ' * (12 - len(riga[1]))\n",
    "            for i in range(2,8):\n",
    "                riga[i] = ' ' + riga[i] + ' ' * (13 - len(riga[i]))\n",
    "                if i == 7:\n",
    "                    riga[7] = riga[7].rstrip()\n",
    "            liste.append(''.join(riga))\n",
    "        #print(liste)\n",
    "\n",
    "    with open(file_txt, 'w', encoding='utf-8', newline = '') as f:\n",
    "        f.write('\\n')\n",
    "        for lista in liste:\n",
    "            f.write(lista + '\\n')\n",
    "            \n",
    "    print('ok')\n",
    "\n",
    "if main() == '__main__':\n",
    "    main()\n",
    "\n"
   ]
  }
 ],
 "metadata": {
  "kernelspec": {
   "display_name": "Python 3",
   "language": "python",
   "name": "python3"
  },
  "language_info": {
   "codemirror_mode": {
    "name": "ipython",
    "version": 3
   },
   "file_extension": ".py",
   "mimetype": "text/x-python",
   "name": "python",
   "nbconvert_exporter": "python",
   "pygments_lexer": "ipython3",
   "version": "3.11.4"
  }
 },
 "nbformat": 4,
 "nbformat_minor": 2
}
